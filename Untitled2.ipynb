{
 "cells": [
  {
   "cell_type": "code",
   "execution_count": 3,
   "id": "8fed61bd-cfc6-4ab9-82e1-d0aa62502e84",
   "metadata": {},
   "outputs": [],
   "source": [
    "import pandas as pd\n",
    "import numpy as np\n",
    "import torch\n",
    "import math\n",
    "from torch.utils.data import DataLoader, Dataset\n",
    "\n",
    "file_path = './KOSPI.csv'\n",
    "class StockDataset(Dataset):\n",
    "    def __init__(self, file_path, time_step=10, train_flag=True):\n",
    "        # csv 데이터 불러오기\n",
    "        with open(file_path, \"r\", encoding=\"utf-8\") as fp:\n",
    "            data_pd = pd.read_csv(fp)\n",
    "\n",
    "        self.train_flag = train_flag  # 학습용 데이터를 True로 설정\n",
    "        self.data_train_ratio = 0.9  # 90%를 학습용 데이터로 사용\n",
    "        self.T = time_step\n",
    "\n",
    "        # 학습용 데이터인 경우\n",
    "        if train_flag:\n",
    "            self.data_len = int(self.data_train_ratio * len(data_pd))\n",
    "            data_all = np.array(data_pd['close'])  # KOSPI 종가 데이터 셋 활용\n",
    "            data_all = (data_all - np.mean(data_all)) / np.std(data_all)  # 데이터 셋 표준화\n",
    "            self.data = data_all[ : self.data_len]\n",
    "\n",
    "        # 평가용 데이터인 경우\n",
    "        else:\n",
    "            self.data_len = int((1-self.data_train_ratio) * len(data_pd))\n",
    "            data_all = np.array(data_pd['close'])\n",
    "            data_all = (data_all - np.mean(data_all)) / np.std(data_all)\n",
    "            self.data = data_all[-self.data_len : ]\n",
    "\n",
    "        print(\"data len:{}\".format(self.data_len))  # 학습 시 학습/평가 데이터 개수 출력\n",
    "\n",
    "    def __len__(self):\n",
    "        return self.data_len - self.T\n",
    "\n",
    "    def __getitem__(self, idx):\n",
    "        return self.data[idx : idx + self.T], self.data[idx + self.T]"
   ]
  },
  {
   "cell_type": "code",
   "execution_count": null,
   "id": "0cd53db2-927f-4aa8-9f39-1fffaad1ec3d",
   "metadata": {},
   "outputs": [],
   "source": []
  },
  {
   "cell_type": "code",
   "execution_count": null,
   "id": "11ebdfa0-6e4c-440f-b0bf-8378927d919b",
   "metadata": {},
   "outputs": [],
   "source": []
  }
 ],
 "metadata": {
  "kernelspec": {
   "display_name": "Python 3 (ipykernel)",
   "language": "python",
   "name": "python3"
  },
  "language_info": {
   "codemirror_mode": {
    "name": "ipython",
    "version": 3
   },
   "file_extension": ".py",
   "mimetype": "text/x-python",
   "name": "python",
   "nbconvert_exporter": "python",
   "pygments_lexer": "ipython3",
   "version": "3.10.13"
  }
 },
 "nbformat": 4,
 "nbformat_minor": 5
}
